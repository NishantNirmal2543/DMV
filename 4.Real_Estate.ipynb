{
 "cells": [
  {
   "cell_type": "code",
   "execution_count": 7,
   "id": "2c5ee572-b2d2-45fc-aba3-2a8400d55e5d",
   "metadata": {
    "tags": []
   },
   "outputs": [],
   "source": [
    "import pandas as pd\n",
    "\n",
    "# Step 1: Import the dataset and clean column names\n",
    "df = pd.read_csv(\"Mumbai_Property.csv\")\n",
    "\n",
    "# Clean column names by removing spaces and special characters\n",
    "df.columns = df.columns.str.strip()  # Remove leading/trailing spaces\n",
    "df.columns = df.columns.str.replace(' ', '_')  # Replace spaces with underscores\n",
    "df.columns = df.columns.str.replace('[^\\w\\s]', '', regex=True)  # Remove special characters\n",
    "\n",
    "# Step 2: Handle missing values\n",
    "# Depending on your dataset, you can choose to impute or remove missing values. \n",
    "# Here, we will impute missing values for numerical columns with their means.\n",
    "numerical_columns = df.select_dtypes(include=['number'])\n",
    "df[numerical_columns.columns] = df[numerical_columns.columns].fillna(df[numerical_columns.columns].mean())\n",
    "\n",
    "# Step 3: Filter and subset the data\n",
    "# For example, let's filter the data for a specific location (e.g., \"New York\") and property type (e.g., \"Single Family Home\").\n",
    "filtered_data = df[(df['Location'] == 'New York') & (df['Property_Name'] == 'Single Family Home')]\n",
    "\n",
    "# Step 4: Handle categorical variables by one-hot encoding\n",
    "# You can use the pd.get_dummies() function for one-hot encoding.\n",
    "categorical_columns = df.select_dtypes(exclude=['number'])\n",
    "df = pd.get_dummies(df, columns=categorical_columns.columns)\n",
    "\n",
    "# Now, your dataset is cleaned, missing values are imputed, and categorical variables are one-hot encoded.\n",
    "\n",
    "# You can save the cleaned dataset to a new CSV file if needed:\n",
    "df.to_csv(\"Cleaned_RealEstate_Prices.csv\", index=False)\n"
   ]
  },
  {
   "cell_type": "code",
   "execution_count": null,
   "id": "1e4bfff4-ee1d-4e2e-847b-b3a732a6fd0f",
   "metadata": {},
   "outputs": [],
   "source": []
  }
 ],
 "metadata": {
  "kernelspec": {
   "display_name": "Python 3 (ipykernel)",
   "language": "python",
   "name": "python3"
  },
  "language_info": {
   "codemirror_mode": {
    "name": "ipython",
    "version": 3
   },
   "file_extension": ".py",
   "mimetype": "text/x-python",
   "name": "python",
   "nbconvert_exporter": "python",
   "pygments_lexer": "ipython3",
   "version": "3.11.5"
  }
 },
 "nbformat": 4,
 "nbformat_minor": 5
}
